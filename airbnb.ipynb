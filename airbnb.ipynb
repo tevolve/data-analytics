{
  "nbformat": 4,
  "nbformat_minor": 0,
  "metadata": {
    "colab": {
      "provenance": []
    },
    "kernelspec": {
      "name": "python3",
      "display_name": "Python 3"
    },
    "language_info": {
      "name": "python"
    }
  },
  "cells": [
    {
      "cell_type": "markdown",
      "source": [
        "# `ANÁLISE DE DADOS AIRBNB`"
      ],
      "metadata": {
        "id": "5tN-CyEJaLRq"
      }
    },
    {
      "cell_type": "code",
      "execution_count": null,
      "metadata": {
        "id": "Qmlrm_ojCV9N"
      },
      "outputs": [],
      "source": [
        "import pandas as pd\n",
        "import numpy as np"
      ]
    },
    {
      "cell_type": "code",
      "source": [
        "df = pd.read_csv('/AB_NYC_2019.csv')"
      ],
      "metadata": {
        "id": "KayOQlkZDUzL"
      },
      "execution_count": null,
      "outputs": []
    },
    {
      "cell_type": "code",
      "source": [
        "df.head(3)"
      ],
      "metadata": {
        "colab": {
          "base_uri": "https://localhost:8080/",
          "height": 312
        },
        "id": "7oCvi87zFZwf",
        "outputId": "d4a9835a-b011-41f7-fc44-4b21d1de2bbc"
      },
      "execution_count": null,
      "outputs": [
        {
          "output_type": "execute_result",
          "data": {
            "text/plain": [
              "     id                                 name  host_id  host_name  \\\n",
              "0  2539   Clean & quiet apt home by the park     2787       John   \n",
              "1  2595                Skylit Midtown Castle     2845   Jennifer   \n",
              "2  3647  THE VILLAGE OF HARLEM....NEW YORK !     4632  Elisabeth   \n",
              "\n",
              "  neighbourhood_group neighbourhood  latitude  longitude        room_type  \\\n",
              "0            Brooklyn    Kensington  40.64749  -73.97237     Private room   \n",
              "1           Manhattan       Midtown  40.75362  -73.98377  Entire home/apt   \n",
              "2           Manhattan        Harlem  40.80902  -73.94190     Private room   \n",
              "\n",
              "   price  minimum_nights  number_of_reviews last_review  reviews_per_month  \\\n",
              "0    149               1                  9  2018-10-19               0.21   \n",
              "1    225               1                 45  2019-05-21               0.38   \n",
              "2    150               3                  0         NaN                NaN   \n",
              "\n",
              "   calculated_host_listings_count  availability_365  \n",
              "0                               6               365  \n",
              "1                               2               355  \n",
              "2                               1               365  "
            ],
            "text/html": [
              "\n",
              "  <div id=\"df-e7230e5b-2631-4993-a012-f0bbff5806a1\">\n",
              "    <div class=\"colab-df-container\">\n",
              "      <div>\n",
              "<style scoped>\n",
              "    .dataframe tbody tr th:only-of-type {\n",
              "        vertical-align: middle;\n",
              "    }\n",
              "\n",
              "    .dataframe tbody tr th {\n",
              "        vertical-align: top;\n",
              "    }\n",
              "\n",
              "    .dataframe thead th {\n",
              "        text-align: right;\n",
              "    }\n",
              "</style>\n",
              "<table border=\"1\" class=\"dataframe\">\n",
              "  <thead>\n",
              "    <tr style=\"text-align: right;\">\n",
              "      <th></th>\n",
              "      <th>id</th>\n",
              "      <th>name</th>\n",
              "      <th>host_id</th>\n",
              "      <th>host_name</th>\n",
              "      <th>neighbourhood_group</th>\n",
              "      <th>neighbourhood</th>\n",
              "      <th>latitude</th>\n",
              "      <th>longitude</th>\n",
              "      <th>room_type</th>\n",
              "      <th>price</th>\n",
              "      <th>minimum_nights</th>\n",
              "      <th>number_of_reviews</th>\n",
              "      <th>last_review</th>\n",
              "      <th>reviews_per_month</th>\n",
              "      <th>calculated_host_listings_count</th>\n",
              "      <th>availability_365</th>\n",
              "    </tr>\n",
              "  </thead>\n",
              "  <tbody>\n",
              "    <tr>\n",
              "      <th>0</th>\n",
              "      <td>2539</td>\n",
              "      <td>Clean &amp; quiet apt home by the park</td>\n",
              "      <td>2787</td>\n",
              "      <td>John</td>\n",
              "      <td>Brooklyn</td>\n",
              "      <td>Kensington</td>\n",
              "      <td>40.64749</td>\n",
              "      <td>-73.97237</td>\n",
              "      <td>Private room</td>\n",
              "      <td>149</td>\n",
              "      <td>1</td>\n",
              "      <td>9</td>\n",
              "      <td>2018-10-19</td>\n",
              "      <td>0.21</td>\n",
              "      <td>6</td>\n",
              "      <td>365</td>\n",
              "    </tr>\n",
              "    <tr>\n",
              "      <th>1</th>\n",
              "      <td>2595</td>\n",
              "      <td>Skylit Midtown Castle</td>\n",
              "      <td>2845</td>\n",
              "      <td>Jennifer</td>\n",
              "      <td>Manhattan</td>\n",
              "      <td>Midtown</td>\n",
              "      <td>40.75362</td>\n",
              "      <td>-73.98377</td>\n",
              "      <td>Entire home/apt</td>\n",
              "      <td>225</td>\n",
              "      <td>1</td>\n",
              "      <td>45</td>\n",
              "      <td>2019-05-21</td>\n",
              "      <td>0.38</td>\n",
              "      <td>2</td>\n",
              "      <td>355</td>\n",
              "    </tr>\n",
              "    <tr>\n",
              "      <th>2</th>\n",
              "      <td>3647</td>\n",
              "      <td>THE VILLAGE OF HARLEM....NEW YORK !</td>\n",
              "      <td>4632</td>\n",
              "      <td>Elisabeth</td>\n",
              "      <td>Manhattan</td>\n",
              "      <td>Harlem</td>\n",
              "      <td>40.80902</td>\n",
              "      <td>-73.94190</td>\n",
              "      <td>Private room</td>\n",
              "      <td>150</td>\n",
              "      <td>3</td>\n",
              "      <td>0</td>\n",
              "      <td>NaN</td>\n",
              "      <td>NaN</td>\n",
              "      <td>1</td>\n",
              "      <td>365</td>\n",
              "    </tr>\n",
              "  </tbody>\n",
              "</table>\n",
              "</div>\n",
              "      <button class=\"colab-df-convert\" onclick=\"convertToInteractive('df-e7230e5b-2631-4993-a012-f0bbff5806a1')\"\n",
              "              title=\"Convert this dataframe to an interactive table.\"\n",
              "              style=\"display:none;\">\n",
              "        \n",
              "  <svg xmlns=\"http://www.w3.org/2000/svg\" height=\"24px\"viewBox=\"0 0 24 24\"\n",
              "       width=\"24px\">\n",
              "    <path d=\"M0 0h24v24H0V0z\" fill=\"none\"/>\n",
              "    <path d=\"M18.56 5.44l.94 2.06.94-2.06 2.06-.94-2.06-.94-.94-2.06-.94 2.06-2.06.94zm-11 1L8.5 8.5l.94-2.06 2.06-.94-2.06-.94L8.5 2.5l-.94 2.06-2.06.94zm10 10l.94 2.06.94-2.06 2.06-.94-2.06-.94-.94-2.06-.94 2.06-2.06.94z\"/><path d=\"M17.41 7.96l-1.37-1.37c-.4-.4-.92-.59-1.43-.59-.52 0-1.04.2-1.43.59L10.3 9.45l-7.72 7.72c-.78.78-.78 2.05 0 2.83L4 21.41c.39.39.9.59 1.41.59.51 0 1.02-.2 1.41-.59l7.78-7.78 2.81-2.81c.8-.78.8-2.07 0-2.86zM5.41 20L4 18.59l7.72-7.72 1.47 1.35L5.41 20z\"/>\n",
              "  </svg>\n",
              "      </button>\n",
              "      \n",
              "  <style>\n",
              "    .colab-df-container {\n",
              "      display:flex;\n",
              "      flex-wrap:wrap;\n",
              "      gap: 12px;\n",
              "    }\n",
              "\n",
              "    .colab-df-convert {\n",
              "      background-color: #E8F0FE;\n",
              "      border: none;\n",
              "      border-radius: 50%;\n",
              "      cursor: pointer;\n",
              "      display: none;\n",
              "      fill: #1967D2;\n",
              "      height: 32px;\n",
              "      padding: 0 0 0 0;\n",
              "      width: 32px;\n",
              "    }\n",
              "\n",
              "    .colab-df-convert:hover {\n",
              "      background-color: #E2EBFA;\n",
              "      box-shadow: 0px 1px 2px rgba(60, 64, 67, 0.3), 0px 1px 3px 1px rgba(60, 64, 67, 0.15);\n",
              "      fill: #174EA6;\n",
              "    }\n",
              "\n",
              "    [theme=dark] .colab-df-convert {\n",
              "      background-color: #3B4455;\n",
              "      fill: #D2E3FC;\n",
              "    }\n",
              "\n",
              "    [theme=dark] .colab-df-convert:hover {\n",
              "      background-color: #434B5C;\n",
              "      box-shadow: 0px 1px 3px 1px rgba(0, 0, 0, 0.15);\n",
              "      filter: drop-shadow(0px 1px 2px rgba(0, 0, 0, 0.3));\n",
              "      fill: #FFFFFF;\n",
              "    }\n",
              "  </style>\n",
              "\n",
              "      <script>\n",
              "        const buttonEl =\n",
              "          document.querySelector('#df-e7230e5b-2631-4993-a012-f0bbff5806a1 button.colab-df-convert');\n",
              "        buttonEl.style.display =\n",
              "          google.colab.kernel.accessAllowed ? 'block' : 'none';\n",
              "\n",
              "        async function convertToInteractive(key) {\n",
              "          const element = document.querySelector('#df-e7230e5b-2631-4993-a012-f0bbff5806a1');\n",
              "          const dataTable =\n",
              "            await google.colab.kernel.invokeFunction('convertToInteractive',\n",
              "                                                     [key], {});\n",
              "          if (!dataTable) return;\n",
              "\n",
              "          const docLinkHtml = 'Like what you see? Visit the ' +\n",
              "            '<a target=\"_blank\" href=https://colab.research.google.com/notebooks/data_table.ipynb>data table notebook</a>'\n",
              "            + ' to learn more about interactive tables.';\n",
              "          element.innerHTML = '';\n",
              "          dataTable['output_type'] = 'display_data';\n",
              "          await google.colab.output.renderOutput(dataTable, element);\n",
              "          const docLink = document.createElement('div');\n",
              "          docLink.innerHTML = docLinkHtml;\n",
              "          element.appendChild(docLink);\n",
              "        }\n",
              "      </script>\n",
              "    </div>\n",
              "  </div>\n",
              "  "
            ]
          },
          "metadata": {},
          "execution_count": 16
        }
      ]
    },
    {
      "cell_type": "markdown",
      "source": [
        "# 1.Qual o preço médio de todos os valores da cidade de Nova York?"
      ],
      "metadata": {
        "id": "zBNlnrwjGxYY"
      }
    },
    {
      "cell_type": "code",
      "source": [
        "price_Aluguel = df.loc[:, 'price']"
      ],
      "metadata": {
        "id": "Yorv4rm0HT7p"
      },
      "execution_count": null,
      "outputs": []
    },
    {
      "cell_type": "code",
      "source": [
        "media_Aluguel = np.mean(price_Aluguel)\n",
        "\n",
        "print(\"A média dos aluguéis é:\", media_Aluguel.round(2))"
      ],
      "metadata": {
        "colab": {
          "base_uri": "https://localhost:8080/"
        },
        "id": "L46KjdCRH5p6",
        "outputId": "f1ad4a4b-ea20-498f-e763-028290f4b04f"
      },
      "execution_count": null,
      "outputs": [
        {
          "output_type": "stream",
          "name": "stdout",
          "text": [
            "A média dos aluguéis é: 152.72\n"
          ]
        }
      ]
    },
    {
      "cell_type": "markdown",
      "source": [
        "# 2.Qual os nomes distintos de todos os valores dos aluguéis da cidade de Nova York?"
      ],
      "metadata": {
        "id": "78r_wzCLJ-Ne"
      }
    },
    {
      "cell_type": "code",
      "source": [
        "name_City = df.loc[:, 'neighbourhood_group'].unique()\n",
        "\n",
        "print(name_City)"
      ],
      "metadata": {
        "colab": {
          "base_uri": "https://localhost:8080/"
        },
        "id": "CGZhxjWTKSOl",
        "outputId": "d9183bd7-1fab-497b-9754-c14515cc9609"
      },
      "execution_count": null,
      "outputs": [
        {
          "output_type": "stream",
          "name": "stdout",
          "text": [
            "['Brooklyn' 'Manhattan' 'Queens' 'Staten Island' 'Bronx']\n"
          ]
        }
      ]
    },
    {
      "cell_type": "markdown",
      "source": [
        "# 3.Qual o valor máximo da coluna que contém todos os valores dos aluguéis?"
      ],
      "metadata": {
        "id": "5eB2UuY7L6PM"
      }
    },
    {
      "cell_type": "code",
      "source": [
        "price_Max = df.loc[:, 'price'].max()\n",
        "\n",
        "print(price_Max)\n"
      ],
      "metadata": {
        "colab": {
          "base_uri": "https://localhost:8080/"
        },
        "id": "MNcH5bOwM5XO",
        "outputId": "2406c034-9665-4477-a02b-ee9b2696f8e6"
      },
      "execution_count": null,
      "outputs": [
        {
          "output_type": "stream",
          "name": "stdout",
          "text": [
            "10000\n"
          ]
        }
      ]
    },
    {
      "cell_type": "markdown",
      "source": [
        "# 4.Quais são as categorias de imóveis que estão cadastrados dentro da base de dados da cidade de Nova York?\n"
      ],
      "metadata": {
        "id": "Ud98KjtxX6NJ"
      }
    },
    {
      "cell_type": "code",
      "source": [
        "room_Types = df.loc[:, 'room_type'].unique()\n",
        "\n",
        "print(room_Types)\n"
      ],
      "metadata": {
        "colab": {
          "base_uri": "https://localhost:8080/"
        },
        "id": "VsvmrVDZYURb",
        "outputId": "ba61abad-db1a-4d18-a112-ebb27a66e839"
      },
      "execution_count": null,
      "outputs": [
        {
          "output_type": "stream",
          "name": "stdout",
          "text": [
            "['Private room' 'Entire home/apt' 'Shared room']\n"
          ]
        }
      ]
    },
    {
      "cell_type": "markdown",
      "source": [
        "# 5.Quantos usuários/host únicos estão cadastrados na base de dados da cidade de Nova York?"
      ],
      "metadata": {
        "id": "iKh1JhBmcehR"
      }
    },
    {
      "cell_type": "code",
      "source": [
        "hosts_Unico = df.loc[:,'host_id'].unique()\n",
        "\n",
        "print(len(hosts_Unico))"
      ],
      "metadata": {
        "colab": {
          "base_uri": "https://localhost:8080/"
        },
        "id": "jUbTbKIHYoYZ",
        "outputId": "83116082-a632-4e0d-9758-5576f010bd15"
      },
      "execution_count": null,
      "outputs": [
        {
          "output_type": "stream",
          "name": "stdout",
          "text": [
            "37457\n"
          ]
        }
      ]
    },
    {
      "cell_type": "markdown",
      "source": [
        "# 6.Qual o desvio padrão em torno da média dos preços dos imóveis?"
      ],
      "metadata": {
        "id": "RsBp7YHBeHnS"
      }
    },
    {
      "cell_type": "code",
      "source": [
        "price = df.loc[:, 'price']\n",
        "\n",
        "desvio_Padrao = np.std(price)\n",
        "\n",
        "mean_Price = np.mean(price)\n",
        "\n",
        "print(f\"O desvio padrão é de: {desvio_Padrao:.2f}\")\n",
        "\n",
        "print(f\"A média de preços é de: {mean_Price:.2f}\")\n",
        "\n",
        "#var =  df.loc[:, 'price'].std()\n",
        "\n",
        "\n"
      ],
      "metadata": {
        "colab": {
          "base_uri": "https://localhost:8080/"
        },
        "id": "-x0yG6gTecIG",
        "outputId": "3b03a982-d605-4b3a-9272-750e57ca1b82"
      },
      "execution_count": null,
      "outputs": [
        {
          "output_type": "stream",
          "name": "stdout",
          "text": [
            "O devio padrão é de: 240.15\n",
            "A média de preços é de: 152.72\n"
          ]
        }
      ]
    },
    {
      "cell_type": "markdown",
      "source": [
        "# 7.Existem aluguéis mais baratos ou caros?"
      ],
      "metadata": {
        "id": "r8YOL1LcjqEE"
      }
    },
    {
      "cell_type": "code",
      "source": [
        "from matplotlib import pyplot as plt\n",
        "\n",
        "prices = df.loc[:, 'price'] < 1000\n",
        "\n",
        "new_prices = df.loc[prices, 'price']\n",
        "\n",
        "print(f'O maior valor do aluguel é de: {np.max(new_prices)}\\n')\n",
        "print(f'O menor valor do aluguel é de: {np.min(new_prices)}\\n')\n"
      ],
      "metadata": {
        "colab": {
          "base_uri": "https://localhost:8080/"
        },
        "id": "XtAtAJI8kY7V",
        "outputId": "d113ebd7-d745-47ca-fc56-3dbce7636edf"
      },
      "execution_count": null,
      "outputs": [
        {
          "output_type": "stream",
          "name": "stdout",
          "text": [
            "O maior valor do aluguel é de: 999\n",
            "\n",
            "O menor valor do aluguel é de: 0\n",
            "\n"
          ]
        }
      ]
    },
    {
      "cell_type": "code",
      "source": [
        "plt.hist(new_prices, bins=(11))#(1000 - 0) / 100"
      ],
      "metadata": {
        "colab": {
          "base_uri": "https://localhost:8080/",
          "height": 534
        },
        "id": "3bMjnG27m2CJ",
        "outputId": "6784f7c4-0190-4ff6-96ee-13eb0654a908"
      },
      "execution_count": null,
      "outputs": [
        {
          "output_type": "execute_result",
          "data": {
            "text/plain": [
              "(array([19898., 17571.,  6604.,  2426.,   961.,   439.,   229.,   193.,\n",
              "          156.,    65.,    55.]),\n",
              " array([  0.        ,  90.81818182, 181.63636364, 272.45454545,\n",
              "        363.27272727, 454.09090909, 544.90909091, 635.72727273,\n",
              "        726.54545455, 817.36363636, 908.18181818, 999.        ]),\n",
              " <BarContainer object of 11 artists>)"
            ]
          },
          "metadata": {},
          "execution_count": 88
        },
        {
          "output_type": "display_data",
          "data": {
            "text/plain": [
              "<Figure size 640x480 with 1 Axes>"
            ],
            "image/png": "[encoded data removed]"
          },
          "metadata": {}
        }
      ]
    },
    {
      "cell_type": "markdown",
      "source": [
        "# 8.Qual a distribuição do número de Reviews? Existem imóveis com muitos Reviews e outros com poucos?"
      ],
      "metadata": {
        "id": "xYapwJ5GvrR2"
      }
    },
    {
      "cell_type": "code",
      "source": [
        "reviews = df.loc[:, 'number_of_reviews'] < 300\n",
        "\n",
        "new_reviews = df.loc[reviews, 'number_of_reviews']\n",
        "\n",
        "plt.hist(new_reviews, bins=30)"
      ],
      "metadata": {
        "colab": {
          "base_uri": "https://localhost:8080/",
          "height": 673
        },
        "id": "xuma1BbBwOB2",
        "outputId": "7721baac-49ca-4e9b-983f-afa3b1042c3b"
      },
      "execution_count": null,
      "outputs": [
        {
          "output_type": "execute_result",
          "data": {
            "text/plain": [
              "(array([2.952e+04, 5.735e+03, 3.077e+03, 2.043e+03, 1.439e+03, 1.191e+03,\n",
              "        9.180e+02, 7.930e+02, 6.130e+02, 5.220e+02, 4.580e+02, 3.550e+02,\n",
              "        3.180e+02, 3.020e+02, 2.410e+02, 1.950e+02, 1.660e+02, 1.440e+02,\n",
              "        1.130e+02, 1.060e+02, 1.190e+02, 7.700e+01, 8.100e+01, 5.600e+01,\n",
              "        4.600e+01, 3.500e+01, 2.800e+01, 3.100e+01, 2.100e+01, 2.000e+01]),\n",
              " array([  0.        ,   9.96666667,  19.93333333,  29.9       ,\n",
              "         39.86666667,  49.83333333,  59.8       ,  69.76666667,\n",
              "         79.73333333,  89.7       ,  99.66666667, 109.63333333,\n",
              "        119.6       , 129.56666667, 139.53333333, 149.5       ,\n",
              "        159.46666667, 169.43333333, 179.4       , 189.36666667,\n",
              "        199.33333333, 209.3       , 219.26666667, 229.23333333,\n",
              "        239.2       , 249.16666667, 259.13333333, 269.1       ,\n",
              "        279.06666667, 289.03333333, 299.        ]),\n",
              " <BarContainer object of 30 artists>)"
            ]
          },
          "metadata": {},
          "execution_count": 87
        },
        {
          "output_type": "display_data",
          "data": {
            "text/plain": [
              "<Figure size 640x480 with 1 Axes>"
            ],
            "image/png": "[encoded data removed]"
          },
          "metadata": {}
        }
      ]
    },
    {
      "cell_type": "markdown",
      "source": [
        "# 9.Qual distribuição dos imóveis de acordo com o número mínimo de pernoites que podem ser agendados?"
      ],
      "metadata": {
        "id": "7oTXnoyq_IvL"
      }
    },
    {
      "cell_type": "code",
      "source": [
        "pernoite = df.loc[:,'minimum_nights'] < 100\n",
        "\n",
        "pernoites = df.loc[pernoite, 'minimum_nights']\n",
        "\n",
        "plt.hist(pernoites, bins=20);"
      ],
      "metadata": {
        "colab": {
          "base_uri": "https://localhost:8080/",
          "height": 430
        },
        "id": "QLAqPHXR_YYM",
        "outputId": "9d68dd7e-70df-4d40-924b-06a300901d32"
      },
      "execution_count": null,
      "outputs": [
        {
          "output_type": "display_data",
          "data": {
            "text/plain": [
              "<Figure size 640x480 with 1 Axes>"
            ],
            "image/png": "[encoded data removed]"
          },
          "metadata": {}
        }
      ]
    },
    {
      "cell_type": "markdown",
      "source": [
        "# 10.Qual a média e a mediana de imóveis cadastrados por host?"
      ],
      "metadata": {
        "id": "liTzZK4l_ZME"
      }
    },
    {
      "cell_type": "code",
      "source": [
        "hosts = df.loc[:, 'calculated_host_listings_count']\n",
        "\n",
        "print(f'{np.mean(hosts):.2f}')\n",
        "\n",
        "print(np.median(hosts))"
      ],
      "metadata": {
        "colab": {
          "base_uri": "https://localhost:8080/"
        },
        "id": "tZsNqF3V_pfx",
        "outputId": "1bccbee7-be2a-4e4c-de69-56f34bcbc93e"
      },
      "execution_count": null,
      "outputs": [
        {
          "output_type": "stream",
          "name": "stdout",
          "text": [
            "7.14\n",
            "1.0\n"
          ]
        }
      ]
    },
    {
      "cell_type": "markdown",
      "source": [
        "# 11.Qual a data mais recente da última avaliação?"
      ],
      "metadata": {
        "id": "MjHS8mJnKHFI"
      }
    },
    {
      "cell_type": "code",
      "source": [
        "data = df.loc[:, 'last_review'].sort_values(ascending = True)\n",
        "\n",
        "print(f'A data mais recente é {data.loc[317]}')"
      ],
      "metadata": {
        "colab": {
          "base_uri": "https://localhost:8080/"
        },
        "id": "1bY_GFtsKRZ3",
        "outputId": "2e177dea-89df-4307-e225-225abea11e1c"
      },
      "execution_count": null,
      "outputs": [
        {
          "output_type": "stream",
          "name": "stdout",
          "text": [
            "A data mais recente é 2011-03-28\n"
          ]
        }
      ]
    },
    {
      "cell_type": "markdown",
      "source": [
        "# 12.Qual o valor máximo de pernoites agendadas?"
      ],
      "metadata": {
        "id": "gAELlfq4KnHD"
      }
    },
    {
      "cell_type": "code",
      "source": [
        "pernoites_max = df.loc[:, 'minimum_nights'].sort_values(ascending = False)\n",
        "\n",
        "print(pernoites_max.loc[5767])"
      ],
      "metadata": {
        "colab": {
          "base_uri": "https://localhost:8080/"
        },
        "id": "GOtNkUi4KxFA",
        "outputId": "2c065cf9-0524-46ef-f81d-e54f05ba639f"
      },
      "execution_count": null,
      "outputs": [
        {
          "output_type": "stream",
          "name": "stdout",
          "text": [
            "1250\n"
          ]
        }
      ]
    },
    {
      "cell_type": "markdown",
      "source": [],
      "metadata": {
        "id": "gpOVkCCOLdaP"
      }
    }
  ]
}